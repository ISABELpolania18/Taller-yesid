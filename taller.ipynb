{
 "cells": [
  {
   "cell_type": "code",
   "execution_count": 12,
   "id": "a850664d",
   "metadata": {},
   "outputs": [],
   "source": [
    "import numpy as np\n",
    "import matplotlib.pyplot as plt\n",
    "import scipy.io as sio"
   ]
  },
  {
   "cell_type": "code",
   "execution_count": 13,
   "id": "276f3fab",
   "metadata": {},
   "outputs": [],
   "source": [
    "#Crear una matriz de Numpy aleatoria de 4 dimensiones y un size de 1200000\n",
    "matriz = np.random.randint(0,100, size=(100,20,20,30))"
   ]
  },
  {
   "cell_type": "code",
   "execution_count": 14,
   "id": "269277ac",
   "metadata": {},
   "outputs": [],
   "source": [
    "#Crea una copia de la matriz creada en el ítem anterior (usar método copy) de solo 3 dimensiones (“Cortando una de las dimensiones”)\n",
    "matriz_3d = matriz[:,:,:,0].copy()\n"
   ]
  },
  {
   "cell_type": "code",
   "execution_count": 15,
   "id": "723a10c9",
   "metadata": {},
   "outputs": [
    {
     "name": "stdout",
     "output_type": "stream",
     "text": [
      "Dimensión de la matriz 3D: 3\n",
      "Tamaño de la matriz 3D: 40000\n",
      "Forma de la matriz 3D: (100, 20, 20)\n",
      "Tipo de dato de la matriz 3D: int32\n"
     ]
    }
   ],
   "source": [
    "#De la matriz 3D, muestra todos los atributos propios de dicha matriz , dimensión, tamaño, etc..\n",
    "print(f\"Dimensión de la matriz 3D: {matriz_3d.ndim}\")\n",
    "print(f\"Tamaño de la matriz 3D: {matriz_3d.size}\")\n",
    "print(f\"Forma de la matriz 3D: {matriz_3d.shape}\")\n",
    "print(f\"Tipo de dato de la matriz 3D: {matriz_3d.dtype}\")"
   ]
  },
  {
   "cell_type": "code",
   "execution_count": null,
   "id": "86d843ed",
   "metadata": {},
   "outputs": [],
   "source": [
    "\n"
   ]
  }
 ],
 "metadata": {
  "kernelspec": {
   "display_name": "Python 3",
   "language": "python",
   "name": "python3"
  },
  "language_info": {
   "codemirror_mode": {
    "name": "ipython",
    "version": 3
   },
   "file_extension": ".py",
   "mimetype": "text/x-python",
   "name": "python",
   "nbconvert_exporter": "python",
   "pygments_lexer": "ipython3",
   "version": "3.13.2"
  }
 },
 "nbformat": 4,
 "nbformat_minor": 5
}
